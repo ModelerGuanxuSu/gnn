{
 "cells": [
  {
   "cell_type": "code",
   "execution_count": 1,
   "metadata": {},
   "outputs": [
    {
     "data": {
      "text/plain": [
       "<module 'GNN' from 'C:\\\\Users\\\\BBD\\\\Desktop\\\\图计算\\\\图神经网络\\\\GNN.py'>"
      ]
     },
     "execution_count": 1,
     "metadata": {},
     "output_type": "execute_result"
    }
   ],
   "source": [
    "import tensorflow as tf\n",
    "import numpy as np\n",
    "import random\n",
    "import datetime\n",
    "from sklearn.metrics import precision_score, recall_score, f1_score, roc_auc_score\n",
    "import scipy.sparse as sp\n",
    "import importlib\n",
    "import GNN\n",
    "importlib.reload(GNN)"
   ]
  },
  {
   "cell_type": "code",
   "execution_count": 2,
   "metadata": {},
   "outputs": [
    {
     "name": "stdout",
     "output_type": "stream",
     "text": [
      "Dataset has 2708 nodes, 5429 edges, 1433 features.\n"
     ]
    }
   ],
   "source": [
    "A, features, y_train, y_val, y_test, train_mask, val_mask, test_mask = GNN.load_data_v1('cora')\n",
    "features = features.toarray()"
   ]
  },
  {
   "cell_type": "markdown",
   "metadata": {},
   "source": [
    "### 模型存储演示"
   ]
  },
  {
   "cell_type": "code",
   "execution_count": 3,
   "metadata": {
    "scrolled": true
   },
   "outputs": [
    {
     "name": "stdout",
     "output_type": "stream",
     "text": [
      "WARNING:tensorflow:From C:\\Users\\BBD\\Desktop\\图计算\\图神经网络\\GNN.py:65: The name tf.reset_default_graph is deprecated. Please use tf.compat.v1.reset_default_graph instead.\n",
      "\n",
      "WARNING:tensorflow:From C:\\Users\\BBD\\Desktop\\图计算\\图神经网络\\GNN.py:15: The name tf.random_normal is deprecated. Please use tf.random.normal instead.\n",
      "\n",
      "WARNING:tensorflow:From C:\\Users\\BBD\\Desktop\\图计算\\图神经网络\\GNN.py:103: The name tf.losses.softmax_cross_entropy is deprecated. Please use tf.compat.v1.losses.softmax_cross_entropy instead.\n",
      "\n",
      "WARNING:tensorflow:From C:\\Users\\BBD\\Anaconda3\\lib\\site-packages\\tensorflow_core\\python\\ops\\losses\\losses_impl.py:121: where (from tensorflow.python.ops.array_ops) is deprecated and will be removed in a future version.\n",
      "Instructions for updating:\n",
      "Use tf.where in 2.0, which has the same broadcast rule as np.where\n",
      "2019-12/03/19 13:48:15\tepoch 0\t18.738691\n",
      "2019-12/03/19 13:48:15\tepoch 1\t10.25875\n",
      "2019-12/03/19 13:48:15\tepoch 2\t7.956712\n",
      "2019-12/03/19 13:48:15\tepoch 3\t8.285624\n",
      "2019-12/03/19 13:48:15\tepoch 4\t7.937876\n",
      "2019-12/03/19 13:48:16\tepoch 5\t6.7684326\n",
      "2019-12/03/19 13:48:16\tepoch 6\t5.3304586\n",
      "2019-12/03/19 13:48:16\tepoch 7\t4.314229\n",
      "2019-12/03/19 13:48:16\tepoch 8\t3.8182118\n",
      "2019-12/03/19 13:48:16\tepoch 9\t3.6371217\n",
      "2019-12/03/19 13:48:17\tepoch 10\t3.5961177\n",
      "2019-12/03/19 13:48:17\tepoch 11\t3.5957708\n",
      "2019-12/03/19 13:48:17\tepoch 12\t3.6092763\n",
      "2019-12/03/19 13:48:17\tepoch 13\t3.63414\n",
      "2019-12/03/19 13:48:18\tepoch 14\t3.6527014\n",
      "2019-12/03/19 13:48:18\tepoch 15\t3.656833\n",
      "2019-12/03/19 13:48:18\tepoch 16\t3.647149\n",
      "2019-12/03/19 13:48:18\tepoch 17\t3.635092\n",
      "2019-12/03/19 13:48:18\tepoch 18\t3.6265163\n",
      "2019-12/03/19 13:48:19\tepoch 19\t3.619433\n",
      "2019-12/03/19 13:48:19\tepoch 20\t3.613562\n",
      "2019-12/03/19 13:48:19\tepoch 21\t3.6078904\n",
      "2019-12/03/19 13:48:19\tepoch 22\t3.6042118\n",
      "2019-12/03/19 13:48:19\tepoch 23\t3.5961697\n",
      "2019-12/03/19 13:48:20\tepoch 24\t3.5838444\n",
      "2019-12/03/19 13:48:20\tepoch 25\t3.5678816\n",
      "2019-12/03/19 13:48:20\tepoch 26\t3.5449367\n",
      "2019-12/03/19 13:48:20\tepoch 27\t3.5211146\n",
      "2019-12/03/19 13:48:20\tepoch 28\t3.495514\n",
      "2019-12/03/19 13:48:21\tepoch 29\t3.468327\n",
      "2019-12/03/19 13:48:21\tepoch 30\t3.4394345\n",
      "2019-12/03/19 13:48:21\tepoch 31\t3.4101632\n",
      "2019-12/03/19 13:48:21\tepoch 32\t3.3808196\n",
      "2019-12/03/19 13:48:21\tepoch 33\t3.3492618\n",
      "2019-12/03/19 13:48:22\tepoch 34\t3.3179605\n",
      "2019-12/03/19 13:48:22\tepoch 35\t3.2846696\n",
      "2019-12/03/19 13:48:22\tepoch 36\t3.2502577\n",
      "2019-12/03/19 13:48:22\tepoch 37\t3.2191238\n",
      "2019-12/03/19 13:48:23\tepoch 38\t3.1867313\n",
      "2019-12/03/19 13:48:23\tepoch 39\t3.1531265\n",
      "2019-12/03/19 13:48:23\tepoch 40\t3.1176696\n",
      "2019-12/03/19 13:48:23\tepoch 41\t3.082149\n",
      "2019-12/03/19 13:48:23\tepoch 42\t3.04656\n",
      "2019-12/03/19 13:48:24\tepoch 43\t3.008016\n",
      "2019-12/03/19 13:48:24\tepoch 44\t2.968569\n",
      "2019-12/03/19 13:48:24\tepoch 45\t2.927942\n",
      "2019-12/03/19 13:48:24\tepoch 46\t2.886888\n",
      "2019-12/03/19 13:48:24\tepoch 47\t2.8451176\n",
      "2019-12/03/19 13:48:25\tepoch 48\t2.8020527\n",
      "2019-12/03/19 13:48:25\tepoch 49\t2.7637029\n",
      "2019-12/03/19 13:48:25\tepoch 50\t2.726825\n",
      "2019-12/03/19 13:48:25\tepoch 51\t2.6916895\n",
      "2019-12/03/19 13:48:25\tepoch 52\t2.6601734\n",
      "2019-12/03/19 13:48:26\tepoch 53\t2.6314201\n",
      "2019-12/03/19 13:48:26\tepoch 54\t2.6055295\n",
      "2019-12/03/19 13:48:26\tepoch 55\t2.58115\n",
      "2019-12/03/19 13:48:26\tepoch 56\t2.5576615\n",
      "2019-12/03/19 13:48:27\tepoch 57\t2.5348134\n",
      "2019-12/03/19 13:48:27\tepoch 58\t2.5133696\n",
      "2019-12/03/19 13:48:27\tepoch 59\t2.490844\n",
      "2019-12/03/19 13:48:27\tepoch 60\t2.467433\n",
      "2019-12/03/19 13:48:27\tepoch 61\t2.445493\n",
      "2019-12/03/19 13:48:28\tepoch 62\t2.4237494\n",
      "2019-12/03/19 13:48:28\tepoch 63\t2.401371\n",
      "2019-12/03/19 13:48:28\tepoch 64\t2.379409\n",
      "2019-12/03/19 13:48:28\tepoch 65\t2.3559203\n",
      "2019-12/03/19 13:48:28\tepoch 66\t2.3343618\n",
      "2019-12/03/19 13:48:29\tepoch 67\t2.313067\n",
      "2019-12/03/19 13:48:29\tepoch 68\t2.2930048\n",
      "2019-12/03/19 13:48:29\tepoch 69\t2.2737894\n",
      "2019-12/03/19 13:48:29\tepoch 70\t2.2554684\n",
      "2019-12/03/19 13:48:29\tepoch 71\t2.2371588\n",
      "2019-12/03/19 13:48:30\tepoch 72\t2.2199583\n",
      "2019-12/03/19 13:48:30\tepoch 73\t2.202932\n",
      "2019-12/03/19 13:48:30\tepoch 74\t2.1863148\n",
      "2019-12/03/19 13:48:30\tepoch 75\t2.1692996\n",
      "2019-12/03/19 13:48:31\tepoch 76\t2.1529796\n",
      "2019-12/03/19 13:48:31\tepoch 77\t2.1370544\n",
      "2019-12/03/19 13:48:31\tepoch 78\t2.1210406\n",
      "2019-12/03/19 13:48:31\tepoch 79\t2.1056623\n",
      "2019-12/03/19 13:48:31\tepoch 80\t2.0904493\n",
      "2019-12/03/19 13:48:32\tepoch 81\t2.0755463\n",
      "2019-12/03/19 13:48:32\tepoch 82\t2.0611174\n",
      "2019-12/03/19 13:48:32\tepoch 83\t2.0478437\n",
      "2019-12/03/19 13:48:32\tepoch 84\t2.034231\n",
      "2019-12/03/19 13:48:32\tepoch 85\t2.0207493\n",
      "2019-12/03/19 13:48:33\tepoch 86\t2.0083046\n",
      "2019-12/03/19 13:48:33\tepoch 87\t1.9952302\n",
      "2019-12/03/19 13:48:33\tepoch 88\t1.9809285\n",
      "2019-12/03/19 13:48:33\tepoch 89\t1.9667075\n",
      "2019-12/03/19 13:48:33\tepoch 90\t1.9524904\n",
      "2019-12/03/19 13:48:34\tepoch 91\t1.939117\n",
      "2019-12/03/19 13:48:34\tepoch 92\t1.9262326\n",
      "2019-12/03/19 13:48:34\tepoch 93\t1.9134798\n",
      "2019-12/03/19 13:48:34\tepoch 94\t1.9003068\n",
      "2019-12/03/19 13:48:35\tepoch 95\t1.8877473\n",
      "2019-12/03/19 13:48:35\tepoch 96\t1.8746104\n",
      "2019-12/03/19 13:48:35\tepoch 97\t1.8621436\n",
      "2019-12/03/19 13:48:35\tepoch 98\t1.8507662\n",
      "2019-12/03/19 13:48:35\tepoch 99\t1.8399055\n",
      "2019-12/03/19 13:48:36\tepoch 100\t1.8289247\n",
      "2019-12/03/19 13:48:36\tepoch 101\t1.8174803\n",
      "2019-12/03/19 13:48:36\tepoch 102\t1.8060126\n",
      "2019-12/03/19 13:48:36\tepoch 103\t1.7954626\n",
      "2019-12/03/19 13:48:36\tepoch 104\t1.7855369\n",
      "2019-12/03/19 13:48:37\tepoch 105\t1.7761357\n",
      "2019-12/03/19 13:48:37\tepoch 106\t1.7669988\n",
      "2019-12/03/19 13:48:37\tepoch 107\t1.7579494\n",
      "2019-12/03/19 13:48:37\tepoch 108\t1.7487121\n",
      "2019-12/03/19 13:48:38\tepoch 109\t1.7395403\n",
      "2019-12/03/19 13:48:38\tepoch 110\t1.7301773\n",
      "2019-12/03/19 13:48:38\tepoch 111\t1.7210565\n",
      "2019-12/03/19 13:48:38\tepoch 112\t1.7116114\n",
      "2019-12/03/19 13:48:38\tepoch 113\t1.7017665\n",
      "2019-12/03/19 13:48:39\tepoch 114\t1.6917471\n",
      "2019-12/03/19 13:48:39\tepoch 115\t1.6814101\n",
      "2019-12/03/19 13:48:39\tepoch 116\t1.6710261\n",
      "2019-12/03/19 13:48:39\tepoch 117\t1.660084\n",
      "2019-12/03/19 13:48:39\tepoch 118\t1.6495196\n",
      "2019-12/03/19 13:48:40\tepoch 119\t1.6394879\n",
      "2019-12/03/19 13:48:40\tepoch 120\t1.6301533\n",
      "2019-12/03/19 13:48:40\tepoch 121\t1.621753\n",
      "2019-12/03/19 13:48:40\tepoch 122\t1.6132263\n",
      "2019-12/03/19 13:48:40\tepoch 123\t1.6047411\n",
      "2019-12/03/19 13:48:41\tepoch 124\t1.596246\n",
      "2019-12/03/19 13:48:41\tepoch 125\t1.5876799\n",
      "2019-12/03/19 13:48:41\tepoch 126\t1.5792909\n",
      "2019-12/03/19 13:48:41\tepoch 127\t1.5706717\n",
      "2019-12/03/19 13:48:42\tepoch 128\t1.5617241\n",
      "2019-12/03/19 13:48:42\tepoch 129\t1.5526634\n",
      "2019-12/03/19 13:48:42\tepoch 130\t1.544619\n",
      "2019-12/03/19 13:48:42\tepoch 131\t1.5367024\n",
      "2019-12/03/19 13:48:42\tepoch 132\t1.528623\n",
      "2019-12/03/19 13:48:43\tepoch 133\t1.5193025\n",
      "2019-12/03/19 13:48:43\tepoch 134\t1.5110123\n",
      "2019-12/03/19 13:48:43\tepoch 135\t1.5029705\n",
      "2019-12/03/19 13:48:43\tepoch 136\t1.4955237\n",
      "2019-12/03/19 13:48:43\tepoch 137\t1.4886047\n",
      "2019-12/03/19 13:48:44\tepoch 138\t1.4820088\n",
      "2019-12/03/19 13:48:44\tepoch 139\t1.4750835\n",
      "2019-12/03/19 13:48:44\tepoch 140\t1.4683518\n",
      "2019-12/03/19 13:48:44\tepoch 141\t1.4620817\n",
      "2019-12/03/19 13:48:45\tepoch 142\t1.4556396\n",
      "2019-12/03/19 13:48:45\tepoch 143\t1.4497019\n",
      "2019-12/03/19 13:48:45\tepoch 144\t1.4436024\n",
      "2019-12/03/19 13:48:45\tepoch 145\t1.4371125\n",
      "2019-12/03/19 13:48:45\tepoch 146\t1.4309204\n",
      "2019-12/03/19 13:48:46\tepoch 147\t1.4241998\n",
      "2019-12/03/19 13:48:46\tepoch 148\t1.4164932\n",
      "2019-12/03/19 13:48:46\tepoch 149\t1.4078087\n"
     ]
    }
   ],
   "source": [
    "model = GNN.GNN(layers=[32,32],batch_size=1024,epoch=150,learning_rate=0.05,dropout_rate=0.5,l2_reg=1e-4)\n",
    "model.fit(features,y_train,train_mask,GNN.get_A_GCN(A))"
   ]
  },
  {
   "cell_type": "code",
   "execution_count": 4,
   "metadata": {},
   "outputs": [
    {
     "name": "stdout",
     "output_type": "stream",
     "text": [
      "WARNING:tensorflow:\n",
      "The TensorFlow contrib module will not be included in TensorFlow 2.0.\n",
      "For more information, please see:\n",
      "  * https://github.com/tensorflow/community/blob/master/rfcs/20180907-contrib-sunset.md\n",
      "  * https://github.com/tensorflow/addons\n",
      "  * https://github.com/tensorflow/io (for I/O related ops)\n",
      "If you depend on functionality not listed there, please file an issue.\n",
      "\n",
      "./model/demo_model\n"
     ]
    }
   ],
   "source": [
    "model.save_parameters('./model/demo_model')"
   ]
  },
  {
   "cell_type": "code",
   "execution_count": 5,
   "metadata": {},
   "outputs": [
    {
     "name": "stdout",
     "output_type": "stream",
     "text": [
      "INFO:tensorflow:Restoring parameters from ./model/demo_model\n"
     ]
    }
   ],
   "source": [
    "model2 = GNN.GNN()\n",
    "model2.load_parameters('./model/demo_model')"
   ]
  },
  {
   "cell_type": "code",
   "execution_count": 6,
   "metadata": {},
   "outputs": [
    {
     "data": {
      "text/plain": [
       "0.9998979591836735"
      ]
     },
     "execution_count": 6,
     "metadata": {},
     "output_type": "execute_result"
    }
   ],
   "source": [
    "y_train_predict = model2.predict_proba(features,GNN.get_A_GCN(A))\n",
    "roc_auc_score(y_train[train_mask], y_train_predict[train_mask],average='micro')"
   ]
  },
  {
   "cell_type": "markdown",
   "metadata": {},
   "source": [
    "### 拟合GCN"
   ]
  },
  {
   "cell_type": "code",
   "execution_count": 7,
   "metadata": {
    "scrolled": true
   },
   "outputs": [
    {
     "name": "stdout",
     "output_type": "stream",
     "text": [
      "2019-12/03/19 13:48:50\tepoch 0\t21.6821\n",
      "2019-12/03/19 13:48:50\tepoch 1\t15.269801\n",
      "2019-12/03/19 13:48:50\tepoch 2\t9.7899065\n",
      "2019-12/03/19 13:48:51\tepoch 3\t7.631993\n",
      "2019-12/03/19 13:48:51\tepoch 4\t6.4846463\n",
      "2019-12/03/19 13:48:51\tepoch 5\t5.7786818\n",
      "2019-12/03/19 13:48:51\tepoch 6\t5.1373324\n",
      "2019-12/03/19 13:48:52\tepoch 7\t4.703798\n",
      "2019-12/03/19 13:48:52\tepoch 8\t4.414856\n",
      "2019-12/03/19 13:48:52\tepoch 9\t4.2316275\n",
      "2019-12/03/19 13:48:52\tepoch 10\t4.1289577\n",
      "2019-12/03/19 13:48:53\tepoch 11\t4.0552135\n",
      "2019-12/03/19 13:48:53\tepoch 12\t4.001187\n",
      "2019-12/03/19 13:48:53\tepoch 13\t3.9554763\n",
      "2019-12/03/19 13:48:53\tepoch 14\t3.9367785\n",
      "2019-12/03/19 13:48:54\tepoch 15\t3.9328134\n",
      "2019-12/03/19 13:48:54\tepoch 16\t3.9318676\n",
      "2019-12/03/19 13:48:54\tepoch 17\t3.9248319\n",
      "2019-12/03/19 13:48:54\tepoch 18\t3.9190578\n",
      "2019-12/03/19 13:48:54\tepoch 19\t3.9148068\n",
      "2019-12/03/19 13:48:55\tepoch 20\t3.9094064\n",
      "2019-12/03/19 13:48:55\tepoch 21\t3.9030013\n",
      "2019-12/03/19 13:48:55\tepoch 22\t3.8940744\n",
      "2019-12/03/19 13:48:55\tepoch 23\t3.8841715\n",
      "2019-12/03/19 13:48:56\tepoch 24\t3.872479\n",
      "2019-12/03/19 13:48:56\tepoch 25\t3.8566353\n",
      "2019-12/03/19 13:48:56\tepoch 26\t3.8379765\n",
      "2019-12/03/19 13:48:56\tepoch 27\t3.8151143\n",
      "2019-12/03/19 13:48:56\tepoch 28\t3.7897415\n",
      "2019-12/03/19 13:48:57\tepoch 29\t3.7600956\n",
      "2019-12/03/19 13:48:57\tepoch 30\t3.729653\n",
      "2019-12/03/19 13:48:57\tepoch 31\t3.6951404\n",
      "2019-12/03/19 13:48:57\tepoch 32\t3.6588502\n",
      "2019-12/03/19 13:48:57\tepoch 33\t3.6194987\n",
      "2019-12/03/19 13:48:58\tepoch 34\t3.5840502\n",
      "2019-12/03/19 13:48:58\tepoch 35\t3.549282\n",
      "2019-12/03/19 13:48:58\tepoch 36\t3.5131698\n",
      "2019-12/03/19 13:48:58\tepoch 37\t3.4771361\n",
      "2019-12/03/19 13:48:59\tepoch 38\t3.4405966\n",
      "2019-12/03/19 13:48:59\tepoch 39\t3.403595\n",
      "2019-12/03/19 13:48:59\tepoch 40\t3.3674426\n",
      "2019-12/03/19 13:48:59\tepoch 41\t3.3283854\n",
      "2019-12/03/19 13:48:59\tepoch 42\t3.2899685\n",
      "2019-12/03/19 13:49:00\tepoch 43\t3.2499819\n",
      "2019-12/03/19 13:49:00\tepoch 44\t3.21104\n",
      "2019-12/03/19 13:49:00\tepoch 45\t3.1689832\n",
      "2019-12/03/19 13:49:00\tepoch 46\t3.129956\n",
      "2019-12/03/19 13:49:01\tepoch 47\t3.089694\n",
      "2019-12/03/19 13:49:01\tepoch 48\t3.0494926\n",
      "2019-12/03/19 13:49:01\tepoch 49\t3.008293\n",
      "2019-12/03/19 13:49:01\tepoch 50\t2.969362\n",
      "2019-12/03/19 13:49:01\tepoch 51\t2.9305491\n",
      "2019-12/03/19 13:49:02\tepoch 52\t2.8940494\n",
      "2019-12/03/19 13:49:02\tepoch 53\t2.8596466\n",
      "2019-12/03/19 13:49:02\tepoch 54\t2.8245616\n",
      "2019-12/03/19 13:49:02\tepoch 55\t2.7893922\n",
      "2019-12/03/19 13:49:03\tepoch 56\t2.7542808\n",
      "2019-12/03/19 13:49:03\tepoch 57\t2.7187076\n",
      "2019-12/03/19 13:49:03\tepoch 58\t2.681606\n",
      "2019-12/03/19 13:49:03\tepoch 59\t2.6470358\n",
      "2019-12/03/19 13:49:03\tepoch 60\t2.6156547\n",
      "2019-12/03/19 13:49:04\tepoch 61\t2.583183\n",
      "2019-12/03/19 13:49:04\tepoch 62\t2.547153\n",
      "2019-12/03/19 13:49:04\tepoch 63\t2.5100536\n",
      "2019-12/03/19 13:49:04\tepoch 64\t2.4732819\n",
      "2019-12/03/19 13:49:05\tepoch 65\t2.437176\n",
      "2019-12/03/19 13:49:05\tepoch 66\t2.408043\n",
      "2019-12/03/19 13:49:05\tepoch 67\t2.3822727\n",
      "2019-12/03/19 13:49:05\tepoch 68\t2.3581626\n",
      "2019-12/03/19 13:49:05\tepoch 69\t2.3348238\n",
      "2019-12/03/19 13:49:06\tepoch 70\t2.3113115\n",
      "2019-12/03/19 13:49:06\tepoch 71\t2.2872913\n",
      "2019-12/03/19 13:49:06\tepoch 72\t2.267134\n",
      "2019-12/03/19 13:49:06\tepoch 73\t2.2506566\n",
      "2019-12/03/19 13:49:07\tepoch 74\t2.2350705\n",
      "2019-12/03/19 13:49:07\tepoch 75\t2.2107315\n",
      "2019-12/03/19 13:49:07\tepoch 76\t2.1902368\n",
      "2019-12/03/19 13:49:07\tepoch 77\t2.1662083\n",
      "2019-12/03/19 13:49:07\tepoch 78\t2.139706\n",
      "2019-12/03/19 13:49:08\tepoch 79\t2.1144738\n",
      "2019-12/03/19 13:49:08\tepoch 80\t2.091105\n",
      "2019-12/03/19 13:49:08\tepoch 81\t2.069317\n",
      "2019-12/03/19 13:49:08\tepoch 82\t2.049985\n",
      "2019-12/03/19 13:49:09\tepoch 83\t2.03152\n",
      "2019-12/03/19 13:49:09\tepoch 84\t2.0114102\n",
      "2019-12/03/19 13:49:09\tepoch 85\t1.9926898\n",
      "2019-12/03/19 13:49:09\tepoch 86\t1.9761827\n",
      "2019-12/03/19 13:49:09\tepoch 87\t1.962807\n",
      "2019-12/03/19 13:49:10\tepoch 88\t1.9527708\n",
      "2019-12/03/19 13:49:10\tepoch 89\t1.9437892\n",
      "2019-12/03/19 13:49:10\tepoch 90\t1.9280953\n",
      "2019-12/03/19 13:49:10\tepoch 91\t1.9131508\n",
      "2019-12/03/19 13:49:11\tepoch 92\t1.8973497\n",
      "2019-12/03/19 13:49:11\tepoch 93\t1.881547\n",
      "2019-12/03/19 13:49:11\tepoch 94\t1.8692062\n",
      "2019-12/03/19 13:49:11\tepoch 95\t1.8568459\n",
      "2019-12/03/19 13:49:11\tepoch 96\t1.8427186\n",
      "2019-12/03/19 13:49:12\tepoch 97\t1.8311979\n",
      "2019-12/03/19 13:49:12\tepoch 98\t1.8223094\n",
      "2019-12/03/19 13:49:12\tepoch 99\t1.8153998\n",
      "2019-12/03/19 13:49:12\tepoch 100\t1.8053647\n",
      "2019-12/03/19 13:49:12\tepoch 101\t1.791421\n",
      "2019-12/03/19 13:49:13\tepoch 102\t1.7774528\n",
      "2019-12/03/19 13:49:13\tepoch 103\t1.7664514\n",
      "2019-12/03/19 13:49:13\tepoch 104\t1.7570893\n",
      "2019-12/03/19 13:49:13\tepoch 105\t1.748983\n",
      "2019-12/03/19 13:49:14\tepoch 106\t1.7398252\n",
      "2019-12/03/19 13:49:14\tepoch 107\t1.7305458\n",
      "2019-12/03/19 13:49:14\tepoch 108\t1.721024\n",
      "2019-12/03/19 13:49:14\tepoch 109\t1.7105205\n",
      "2019-12/03/19 13:49:14\tepoch 110\t1.7002325\n",
      "2019-12/03/19 13:49:15\tepoch 111\t1.689754\n",
      "2019-12/03/19 13:49:15\tepoch 112\t1.679291\n",
      "2019-12/03/19 13:49:15\tepoch 113\t1.6699067\n",
      "2019-12/03/19 13:49:15\tepoch 114\t1.660809\n",
      "2019-12/03/19 13:49:15\tepoch 115\t1.65149\n",
      "2019-12/03/19 13:49:16\tepoch 116\t1.6423821\n",
      "2019-12/03/19 13:49:16\tepoch 117\t1.6324989\n",
      "2019-12/03/19 13:49:16\tepoch 118\t1.620875\n",
      "2019-12/03/19 13:49:16\tepoch 119\t1.6095958\n",
      "2019-12/03/19 13:49:17\tepoch 120\t1.598626\n",
      "2019-12/03/19 13:49:17\tepoch 121\t1.5873921\n",
      "2019-12/03/19 13:49:17\tepoch 122\t1.5756664\n",
      "2019-12/03/19 13:49:17\tepoch 123\t1.5648823\n",
      "2019-12/03/19 13:49:17\tepoch 124\t1.553388\n",
      "2019-12/03/19 13:49:18\tepoch 125\t1.5420961\n",
      "2019-12/03/19 13:49:18\tepoch 126\t1.5320126\n",
      "2019-12/03/19 13:49:18\tepoch 127\t1.5220432\n",
      "2019-12/03/19 13:49:18\tepoch 128\t1.5119609\n",
      "2019-12/03/19 13:49:18\tepoch 129\t1.5013394\n",
      "2019-12/03/19 13:49:19\tepoch 130\t1.4903569\n",
      "2019-12/03/19 13:49:19\tepoch 131\t1.4795735\n",
      "2019-12/03/19 13:49:19\tepoch 132\t1.4697822\n",
      "2019-12/03/19 13:49:19\tepoch 133\t1.4636804\n",
      "2019-12/03/19 13:49:20\tepoch 134\t1.459226\n",
      "2019-12/03/19 13:49:20\tepoch 135\t1.4536877\n",
      "2019-12/03/19 13:49:20\tepoch 136\t1.447262\n",
      "2019-12/03/19 13:49:20\tepoch 137\t1.4399264\n",
      "2019-12/03/19 13:49:20\tepoch 138\t1.4293203\n",
      "2019-12/03/19 13:49:21\tepoch 139\t1.4169877\n",
      "2019-12/03/19 13:49:21\tepoch 140\t1.408374\n",
      "2019-12/03/19 13:49:21\tepoch 141\t1.4024783\n",
      "2019-12/03/19 13:49:21\tepoch 142\t1.3987917\n",
      "2019-12/03/19 13:49:22\tepoch 143\t1.3925421\n",
      "2019-12/03/19 13:49:22\tepoch 144\t1.3855251\n",
      "2019-12/03/19 13:49:22\tepoch 145\t1.3776383\n",
      "2019-12/03/19 13:49:22\tepoch 146\t1.3693123\n",
      "2019-12/03/19 13:49:22\tepoch 147\t1.3622074\n",
      "2019-12/03/19 13:49:23\tepoch 148\t1.355894\n",
      "2019-12/03/19 13:49:23\tepoch 149\t1.3499402\n"
     ]
    }
   ],
   "source": [
    "model = GNN.GNN(layers=[32,32],batch_size=1024,epoch=150,learning_rate=0.05,dropout_rate=0.5,l2_reg=1e-4)\n",
    "model.fit(features,y_train,train_mask,GNN.get_A_GCN(A))"
   ]
  },
  {
   "cell_type": "markdown",
   "metadata": {},
   "source": [
    "训练精度"
   ]
  },
  {
   "cell_type": "code",
   "execution_count": 8,
   "metadata": {},
   "outputs": [
    {
     "data": {
      "text/plain": [
       "0.9999319727891156"
      ]
     },
     "execution_count": 8,
     "metadata": {},
     "output_type": "execute_result"
    }
   ],
   "source": [
    "y_train_predict = model.predict_proba(features,GNN.get_A_GCN(A))\n",
    "roc_auc_score(y_train[train_mask], y_train_predict[train_mask],average='micro')"
   ]
  },
  {
   "cell_type": "markdown",
   "metadata": {},
   "source": [
    "Validation精度"
   ]
  },
  {
   "cell_type": "code",
   "execution_count": 9,
   "metadata": {},
   "outputs": [
    {
     "data": {
      "text/plain": [
       "0.9445106666666666"
      ]
     },
     "execution_count": 9,
     "metadata": {},
     "output_type": "execute_result"
    }
   ],
   "source": [
    "y_val_predict = model.predict_proba(features,GNN.get_A_GCN(A))\n",
    "roc_auc_score(y_val[val_mask], y_val_predict[val_mask],average='micro')"
   ]
  },
  {
   "cell_type": "markdown",
   "metadata": {},
   "source": [
    "测试精度"
   ]
  },
  {
   "cell_type": "code",
   "execution_count": 10,
   "metadata": {},
   "outputs": [
    {
     "data": {
      "text/plain": [
       "0.9278956666666668"
      ]
     },
     "execution_count": 10,
     "metadata": {},
     "output_type": "execute_result"
    }
   ],
   "source": [
    "y_test_predict = model.predict_proba(features,GNN.get_A_GCN(A))\n",
    "roc_auc_score(y_test[test_mask], y_test_predict[test_mask],average='micro')"
   ]
  },
  {
   "cell_type": "markdown",
   "metadata": {},
   "source": [
    "### 拟合普通神经网络"
   ]
  },
  {
   "cell_type": "code",
   "execution_count": 11,
   "metadata": {
    "scrolled": true
   },
   "outputs": [
    {
     "name": "stdout",
     "output_type": "stream",
     "text": [
      "2019-12/03/19 13:49:24\tepoch 0\t73.86207\n",
      "2019-12/03/19 13:49:24\tepoch 1\t53.267803\n",
      "2019-12/03/19 13:49:24\tepoch 2\t41.66118\n",
      "2019-12/03/19 13:49:24\tepoch 3\t33.799862\n",
      "2019-12/03/19 13:49:25\tepoch 4\t27.939812\n",
      "2019-12/03/19 13:49:25\tepoch 5\t23.389029\n",
      "2019-12/03/19 13:49:25\tepoch 6\t19.39318\n",
      "2019-12/03/19 13:49:25\tepoch 7\t16.178947\n",
      "2019-12/03/19 13:49:25\tepoch 8\t13.613396\n",
      "2019-12/03/19 13:49:26\tepoch 9\t11.507382\n",
      "2019-12/03/19 13:49:26\tepoch 10\t9.718004\n",
      "2019-12/03/19 13:49:26\tepoch 11\t8.380995\n",
      "2019-12/03/19 13:49:26\tepoch 12\t7.411378\n",
      "2019-12/03/19 13:49:26\tepoch 13\t6.654064\n",
      "2019-12/03/19 13:49:27\tepoch 14\t6.0119863\n",
      "2019-12/03/19 13:49:27\tepoch 15\t5.4625654\n",
      "2019-12/03/19 13:49:27\tepoch 16\t5.0282736\n",
      "2019-12/03/19 13:49:27\tepoch 17\t4.6625695\n",
      "2019-12/03/19 13:49:28\tepoch 18\t4.3710403\n",
      "2019-12/03/19 13:49:28\tepoch 19\t4.132715\n",
      "2019-12/03/19 13:49:28\tepoch 20\t3.980305\n",
      "2019-12/03/19 13:49:28\tepoch 21\t3.8774664\n",
      "2019-12/03/19 13:49:28\tepoch 22\t3.8194208\n",
      "2019-12/03/19 13:49:28\tepoch 23\t3.7887535\n",
      "2019-12/03/19 13:49:29\tepoch 24\t3.7778764\n",
      "2019-12/03/19 13:49:29\tepoch 25\t3.7745206\n",
      "2019-12/03/19 13:49:29\tepoch 26\t3.7686706\n",
      "2019-12/03/19 13:49:29\tepoch 27\t3.7630324\n",
      "2019-12/03/19 13:49:29\tepoch 28\t3.752067\n",
      "2019-12/03/19 13:49:30\tepoch 29\t3.736691\n",
      "2019-12/03/19 13:49:30\tepoch 30\t3.727225\n",
      "2019-12/03/19 13:49:30\tepoch 31\t3.721428\n",
      "2019-12/03/19 13:49:30\tepoch 32\t3.7166038\n",
      "2019-12/03/19 13:49:30\tepoch 33\t3.7162495\n",
      "2019-12/03/19 13:49:31\tepoch 34\t3.7154346\n",
      "2019-12/03/19 13:49:31\tepoch 35\t3.715156\n",
      "2019-12/03/19 13:49:31\tepoch 36\t3.7171538\n",
      "2019-12/03/19 13:49:31\tepoch 37\t3.7205117\n",
      "2019-12/03/19 13:49:32\tepoch 38\t3.720297\n",
      "2019-12/03/19 13:49:32\tepoch 39\t3.7187238\n",
      "2019-12/03/19 13:49:32\tepoch 40\t3.7161624\n",
      "2019-12/03/19 13:49:32\tepoch 41\t3.7135906\n",
      "2019-12/03/19 13:49:32\tepoch 42\t3.710806\n",
      "2019-12/03/19 13:49:33\tepoch 43\t3.7074342\n",
      "2019-12/03/19 13:49:33\tepoch 44\t3.7036068\n",
      "2019-12/03/19 13:49:33\tepoch 45\t3.7004764\n",
      "2019-12/03/19 13:49:33\tepoch 46\t3.6975644\n",
      "2019-12/03/19 13:49:33\tepoch 47\t3.6945136\n",
      "2019-12/03/19 13:49:34\tepoch 48\t3.6916227\n",
      "2019-12/03/19 13:49:34\tepoch 49\t3.6883295\n",
      "2019-12/03/19 13:49:34\tepoch 50\t3.6849835\n",
      "2019-12/03/19 13:49:34\tepoch 51\t3.6821141\n",
      "2019-12/03/19 13:49:34\tepoch 52\t3.6785269\n",
      "2019-12/03/19 13:49:34\tepoch 53\t3.674737\n",
      "2019-12/03/19 13:49:35\tepoch 54\t3.6713927\n",
      "2019-12/03/19 13:49:35\tepoch 55\t3.6679752\n",
      "2019-12/03/19 13:49:35\tepoch 56\t3.664452\n",
      "2019-12/03/19 13:49:35\tepoch 57\t3.6604774\n",
      "2019-12/03/19 13:49:35\tepoch 58\t3.656026\n",
      "2019-12/03/19 13:49:36\tepoch 59\t3.6520407\n",
      "2019-12/03/19 13:49:36\tepoch 60\t3.648439\n",
      "2019-12/03/19 13:49:36\tepoch 61\t3.6448748\n",
      "2019-12/03/19 13:49:36\tepoch 62\t3.6411972\n",
      "2019-12/03/19 13:49:36\tepoch 63\t3.6381826\n",
      "2019-12/03/19 13:49:37\tepoch 64\t3.6354501\n",
      "2019-12/03/19 13:49:37\tepoch 65\t3.6327326\n",
      "2019-12/03/19 13:49:37\tepoch 66\t3.630122\n",
      "2019-12/03/19 13:49:37\tepoch 67\t3.627442\n",
      "2019-12/03/19 13:49:37\tepoch 68\t3.624819\n",
      "2019-12/03/19 13:49:38\tepoch 69\t3.6224105\n",
      "2019-12/03/19 13:49:38\tepoch 70\t3.6199543\n",
      "2019-12/03/19 13:49:38\tepoch 71\t3.617234\n",
      "2019-12/03/19 13:49:38\tepoch 72\t3.6144266\n",
      "2019-12/03/19 13:49:38\tepoch 73\t3.6114197\n",
      "2019-12/03/19 13:49:39\tepoch 74\t3.6083663\n",
      "2019-12/03/19 13:49:39\tepoch 75\t3.6048584\n",
      "2019-12/03/19 13:49:39\tepoch 76\t3.6013465\n",
      "2019-12/03/19 13:49:39\tepoch 77\t3.5979655\n",
      "2019-12/03/19 13:49:39\tepoch 78\t3.594591\n",
      "2019-12/03/19 13:49:40\tepoch 79\t3.5912151\n",
      "2019-12/03/19 13:49:40\tepoch 80\t3.5878658\n",
      "2019-12/03/19 13:49:40\tepoch 81\t3.584693\n",
      "2019-12/03/19 13:49:40\tepoch 82\t3.5817728\n",
      "2019-12/03/19 13:49:40\tepoch 83\t3.579117\n",
      "2019-12/03/19 13:49:41\tepoch 84\t3.5765305\n",
      "2019-12/03/19 13:49:41\tepoch 85\t3.5737548\n",
      "2019-12/03/19 13:49:41\tepoch 86\t3.5705028\n",
      "2019-12/03/19 13:49:41\tepoch 87\t3.5667026\n",
      "2019-12/03/19 13:49:41\tepoch 88\t3.5630744\n",
      "2019-12/03/19 13:49:42\tepoch 89\t3.5600052\n",
      "2019-12/03/19 13:49:42\tepoch 90\t3.5569026\n",
      "2019-12/03/19 13:49:42\tepoch 91\t3.5535946\n",
      "2019-12/03/19 13:49:42\tepoch 92\t3.5502274\n",
      "2019-12/03/19 13:49:42\tepoch 93\t3.5469522\n",
      "2019-12/03/19 13:49:42\tepoch 94\t3.5436\n",
      "2019-12/03/19 13:49:43\tepoch 95\t3.5405345\n",
      "2019-12/03/19 13:49:43\tepoch 96\t3.5377162\n",
      "2019-12/03/19 13:49:43\tepoch 97\t3.5348456\n",
      "2019-12/03/19 13:49:43\tepoch 98\t3.5320408\n",
      "2019-12/03/19 13:49:43\tepoch 99\t3.5293875\n"
     ]
    }
   ],
   "source": [
    "model = GNN.GNN(layers=[32,32],batch_size=1024,epoch=100,learning_rate=0.05,dropout_rate=0.5,l2_reg=1e-4)\n",
    "model.fit(features,y_train,train_mask)"
   ]
  },
  {
   "cell_type": "markdown",
   "metadata": {},
   "source": [
    "训练精度"
   ]
  },
  {
   "cell_type": "code",
   "execution_count": 12,
   "metadata": {},
   "outputs": [
    {
     "data": {
      "text/plain": [
       "0.5377210884353741"
      ]
     },
     "execution_count": 12,
     "metadata": {},
     "output_type": "execute_result"
    }
   ],
   "source": [
    "y_train_predict = model.predict_proba(features)\n",
    "roc_auc_score(y_train[train_mask], y_train_predict[train_mask],average='micro')"
   ]
  },
  {
   "cell_type": "markdown",
   "metadata": {},
   "source": [
    "Validation精度"
   ]
  },
  {
   "cell_type": "code",
   "execution_count": 13,
   "metadata": {},
   "outputs": [
    {
     "data": {
      "text/plain": [
       "0.4427173333333334"
      ]
     },
     "execution_count": 13,
     "metadata": {},
     "output_type": "execute_result"
    }
   ],
   "source": [
    "y_val_predict = model.predict_proba(features)\n",
    "roc_auc_score(y_val[val_mask], y_val_predict[val_mask],average='micro')"
   ]
  },
  {
   "cell_type": "markdown",
   "metadata": {},
   "source": [
    "测试精度"
   ]
  },
  {
   "cell_type": "code",
   "execution_count": 14,
   "metadata": {},
   "outputs": [
    {
     "data": {
      "text/plain": [
       "0.46400533333333327"
      ]
     },
     "execution_count": 14,
     "metadata": {},
     "output_type": "execute_result"
    }
   ],
   "source": [
    "y_test_predict = model.predict_proba(features)\n",
    "roc_auc_score(y_test[test_mask], y_test_predict[test_mask],average='micro')"
   ]
  },
  {
   "cell_type": "code",
   "execution_count": null,
   "metadata": {},
   "outputs": [],
   "source": []
  }
 ],
 "metadata": {
  "kernelspec": {
   "display_name": "Python 3",
   "language": "python",
   "name": "python3"
  },
  "language_info": {
   "codemirror_mode": {
    "name": "ipython",
    "version": 3
   },
   "file_extension": ".py",
   "mimetype": "text/x-python",
   "name": "python",
   "nbconvert_exporter": "python",
   "pygments_lexer": "ipython3",
   "version": "3.7.3"
  }
 },
 "nbformat": 4,
 "nbformat_minor": 2
}
